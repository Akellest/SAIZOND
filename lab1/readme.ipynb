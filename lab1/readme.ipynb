{
  "cells": [
    {
      "cell_type": "raw",
      "metadata": {},
      "source": [
        "---\n",
        "title: \"readme\"\n",
        "format: html\n",
        "editor: visual\n",
        "---"
      ],
      "id": "88abb5be"
    },
    {
      "cell_type": "markdown",
      "metadata": {},
      "source": [
        "## Quarto\n",
        "\n",
        "Quarto enables you to weave together content and executable code into a finished document. To learn more about Quarto see <https://quarto.org>.\n",
        "\n",
        "## Running Code\n",
        "\n",
        "When you click the **Render** button a document will be generated that includes both content and the output of embedded code. You can embed code like this:\n",
        "\n",
        "Версия ядра\n",
        "\n",
        "\n",
        "```{bash}\n",
        "uname -r\n",
        "```\n",
        "\n",
        "\n",
        "Все сведения о ядре\n",
        "\n",
        "\n",
        "```{bash}\n",
        "uname -a\n",
        "```\n",
        "\n",
        "\n",
        "release info\n",
        "\n",
        "\n",
        "```{bash}\n",
        "lsb_release -a\n",
        "```\n",
        "\n",
        "\n",
        "release info\n",
        "\n",
        "\n",
        "```{bash}\n",
        "cat /etc/*release*\n",
        "```\n",
        "\n",
        "\n",
        "Модель процессора\n",
        "\n",
        "\n",
        "```{bash}\n",
        "cat /proc/cpuinfo | grep \"model name\"\n",
        "```\n",
        "\n",
        "\n",
        "Последние 30 строк кольцевого буфера ядра\n",
        "\n",
        "\n",
        "```{bash}\n",
        "dmesg | tail -n 30\n",
        "```\n",
        "\n",
        "\n",
        "The `echo: false` option disables the printing of code (only output is displayed)."
      ],
      "id": "c63d7016"
    }
  ],
  "metadata": {
    "kernelspec": {
      "name": "python3",
      "language": "python",
      "display_name": "Python 3"
    }
  },
  "nbformat": 4,
  "nbformat_minor": 5
}